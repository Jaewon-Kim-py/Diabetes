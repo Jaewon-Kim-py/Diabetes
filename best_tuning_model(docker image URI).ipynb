{
 "cells": [
  {
   "cell_type": "code",
   "execution_count": 8,
   "id": "adjacent-bottom",
   "metadata": {},
   "outputs": [],
   "source": [
    "#best tuning model 생성\n",
    "import sagemaker\n",
    "\n",
    "estimator = sagemaker.model.Model(image_uri = \"366743142698.dkr.ecr.ap-northeast-2.amazonaws.com/sagemaker-xgboost:1.0-1-cpu-py3\",\n",
    "                                 model_data = 's3://subtest3/diabetes/output/MyTuningJob3-006-1cddcc54/output/model.tar.gz' ,\n",
    "                                 role = 'arn:aws:iam::689918819853:role/service-role/AmazonSageMaker-ExecutionRole-20210208T130722')"
   ]
  },
  {
   "cell_type": "code",
   "execution_count": 9,
   "id": "behind-handbook",
   "metadata": {},
   "outputs": [
    {
     "name": "stdout",
     "output_type": "stream",
     "text": [
      "---------------!"
     ]
    }
   ],
   "source": [
    "#endpoint 생성\n",
    "estimator.deploy(1, 'ml.m4.xlarge')"
   ]
  },
  {
   "cell_type": "code",
   "execution_count": null,
   "id": "english-institute",
   "metadata": {},
   "outputs": [],
   "source": []
  },
  {
   "cell_type": "code",
   "execution_count": null,
   "id": "visible-noise",
   "metadata": {},
   "outputs": [],
   "source": []
  },
  {
   "cell_type": "code",
   "execution_count": null,
   "id": "fifth-excitement",
   "metadata": {},
   "outputs": [],
   "source": []
  }
 ],
 "metadata": {
  "kernelspec": {
   "display_name": "conda_python3",
   "language": "python",
   "name": "conda_python3"
  },
  "language_info": {
   "codemirror_mode": {
    "name": "ipython",
    "version": 3
   },
   "file_extension": ".py",
   "mimetype": "text/x-python",
   "name": "python",
   "nbconvert_exporter": "python",
   "pygments_lexer": "ipython3",
   "version": "3.6.10"
  }
 },
 "nbformat": 4,
 "nbformat_minor": 5
}
